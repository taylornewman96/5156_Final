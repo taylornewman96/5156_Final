{
 "cells": [
  {
   "cell_type": "code",
   "execution_count": 181,
   "metadata": {
    "_execution_state": "idle",
    "_uuid": "051d70d956493feee0c6d64651c6a088724dca2a"
   },
   "outputs": [
    {
     "name": "stdout",
     "output_type": "stream",
     "text": [
      "2.7.0\n"
     ]
    }
   ],
   "source": [
    "import numpy as np\n",
    "import pandas as pd\n",
    "import pickle\n",
    "import tensorflow as tf\n",
    "from wordcloud import WordCloud, STOPWORDS\n",
    "import matplotlib.pyplot as plt\n",
    "from tensorflow.keras.preprocessing import text, sequence\n",
    "from tensorflow.keras.models import Sequential\n",
    "from tensorflow.keras.layers import Dense, Dropout, Activation\n",
    "from tensorflow.keras.layers import Embedding, Bidirectional, LSTM,Flatten, RepeatVector\n",
    "from tensorflow.keras.layers import Conv1D, GlobalMaxPooling1D, MaxPooling1D\n",
    "from sklearn.model_selection import train_test_split\n",
    "from sklearn.metrics import accuracy_score, f1_score, confusion_matrix\n",
    "import seaborn as sns\n",
    "plt.style.use('fivethirtyeight')\n",
    "print(tf.__version__)\n",
    "\n",
    "import os\n",
    "for dirname, _, filenames in os.walk('/kaggle/input'):\n",
    "    for filename in filenames:\n",
    "        print(filename)"
   ]
  },
  {
   "cell_type": "code",
   "execution_count": 182,
   "metadata": {},
   "outputs": [
    {
     "data": {
      "text/html": [
       "<div>\n",
       "<style scoped>\n",
       "    .dataframe tbody tr th:only-of-type {\n",
       "        vertical-align: middle;\n",
       "    }\n",
       "\n",
       "    .dataframe tbody tr th {\n",
       "        vertical-align: top;\n",
       "    }\n",
       "\n",
       "    .dataframe thead th {\n",
       "        text-align: right;\n",
       "    }\n",
       "</style>\n",
       "<table border=\"1\" class=\"dataframe\">\n",
       "  <thead>\n",
       "    <tr style=\"text-align: right;\">\n",
       "      <th></th>\n",
       "      <th>Sentence</th>\n",
       "      <th>Label</th>\n",
       "      <th>Category</th>\n",
       "    </tr>\n",
       "  </thead>\n",
       "  <tbody>\n",
       "    <tr>\n",
       "      <th>0</th>\n",
       "      <td>For a woman, that is good</td>\n",
       "      <td>1</td>\n",
       "      <td>1</td>\n",
       "    </tr>\n",
       "    <tr>\n",
       "      <th>1</th>\n",
       "      <td>Just dress sexy and you will sign any contract.</td>\n",
       "      <td>1</td>\n",
       "      <td>1</td>\n",
       "    </tr>\n",
       "    <tr>\n",
       "      <th>2</th>\n",
       "      <td>Are you having period ?</td>\n",
       "      <td>1</td>\n",
       "      <td>1</td>\n",
       "    </tr>\n",
       "    <tr>\n",
       "      <th>3</th>\n",
       "      <td>Stop being bitchy</td>\n",
       "      <td>1</td>\n",
       "      <td>1</td>\n",
       "    </tr>\n",
       "    <tr>\n",
       "      <th>4</th>\n",
       "      <td>I leave early because of her children instead ...</td>\n",
       "      <td>1</td>\n",
       "      <td>1</td>\n",
       "    </tr>\n",
       "  </tbody>\n",
       "</table>\n",
       "</div>"
      ],
      "text/plain": [
       "                                            Sentence  Label  Category\n",
       "0                          For a woman, that is good      1         1\n",
       "1    Just dress sexy and you will sign any contract.      1         1\n",
       "2                            Are you having period ?      1         1\n",
       "3                                  Stop being bitchy      1         1\n",
       "4  I leave early because of her children instead ...      1         1"
      ]
     },
     "execution_count": 182,
     "metadata": {},
     "output_type": "execute_result"
    }
   ],
   "source": [
    "df = pd.read_csv('SD_dataset_FINAL.csv')\n",
    "df.head()"
   ]
  },
  {
   "cell_type": "code",
   "execution_count": 183,
   "metadata": {},
   "outputs": [
    {
     "name": "stdout",
     "output_type": "stream",
     "text": [
      "There are 1142 rows and 3 columns\n"
     ]
    }
   ],
   "source": [
    "nRow, nCol = df.shape\n",
    "print('There are {} rows and {} columns'.format(nRow, nCol))"
   ]
  },
  {
   "cell_type": "code",
   "execution_count": 184,
   "metadata": {},
   "outputs": [
    {
     "data": {
      "text/html": [
       "<div>\n",
       "<style scoped>\n",
       "    .dataframe tbody tr th:only-of-type {\n",
       "        vertical-align: middle;\n",
       "    }\n",
       "\n",
       "    .dataframe tbody tr th {\n",
       "        vertical-align: top;\n",
       "    }\n",
       "\n",
       "    .dataframe thead th {\n",
       "        text-align: right;\n",
       "    }\n",
       "</style>\n",
       "<table border=\"1\" class=\"dataframe\">\n",
       "  <thead>\n",
       "    <tr style=\"text-align: right;\">\n",
       "      <th></th>\n",
       "      <th>Sentence</th>\n",
       "      <th>Label</th>\n",
       "      <th>Category</th>\n",
       "    </tr>\n",
       "  </thead>\n",
       "  <tbody>\n",
       "    <tr>\n",
       "      <th>0</th>\n",
       "      <td>For a woman, that is good</td>\n",
       "      <td>1</td>\n",
       "      <td>sexist</td>\n",
       "    </tr>\n",
       "    <tr>\n",
       "      <th>1</th>\n",
       "      <td>Just dress sexy and you will sign any contract.</td>\n",
       "      <td>1</td>\n",
       "      <td>sexist</td>\n",
       "    </tr>\n",
       "    <tr>\n",
       "      <th>2</th>\n",
       "      <td>Are you having period ?</td>\n",
       "      <td>1</td>\n",
       "      <td>sexist</td>\n",
       "    </tr>\n",
       "    <tr>\n",
       "      <th>3</th>\n",
       "      <td>Stop being bitchy</td>\n",
       "      <td>1</td>\n",
       "      <td>sexist</td>\n",
       "    </tr>\n",
       "    <tr>\n",
       "      <th>4</th>\n",
       "      <td>I leave early because of her children instead ...</td>\n",
       "      <td>1</td>\n",
       "      <td>sexist</td>\n",
       "    </tr>\n",
       "    <tr>\n",
       "      <th>...</th>\n",
       "      <td>...</td>\n",
       "      <td>...</td>\n",
       "      <td>...</td>\n",
       "    </tr>\n",
       "    <tr>\n",
       "      <th>1137</th>\n",
       "      <td>Women Do six percent of the Work but get all o...</td>\n",
       "      <td>1</td>\n",
       "      <td>sexist</td>\n",
       "    </tr>\n",
       "    <tr>\n",
       "      <th>1138</th>\n",
       "      <td>My Big Bang Theory Is: Women Don’t Like Physics.</td>\n",
       "      <td>1</td>\n",
       "      <td>sexist</td>\n",
       "    </tr>\n",
       "    <tr>\n",
       "      <th>1139</th>\n",
       "      <td>this area of study was invented and built by men</td>\n",
       "      <td>1</td>\n",
       "      <td>sexist</td>\n",
       "    </tr>\n",
       "    <tr>\n",
       "      <th>1140</th>\n",
       "      <td>Katie and several other women scientists on ou...</td>\n",
       "      <td>0</td>\n",
       "      <td>neutral</td>\n",
       "    </tr>\n",
       "    <tr>\n",
       "      <th>1141</th>\n",
       "      <td>There’s a trove of research suggesting that wo...</td>\n",
       "      <td>0</td>\n",
       "      <td>neutral</td>\n",
       "    </tr>\n",
       "  </tbody>\n",
       "</table>\n",
       "<p>1142 rows × 3 columns</p>\n",
       "</div>"
      ],
      "text/plain": [
       "                                               Sentence  Label Category\n",
       "0                             For a woman, that is good      1   sexist\n",
       "1       Just dress sexy and you will sign any contract.      1   sexist\n",
       "2                               Are you having period ?      1   sexist\n",
       "3                                     Stop being bitchy      1   sexist\n",
       "4     I leave early because of her children instead ...      1   sexist\n",
       "...                                                 ...    ...      ...\n",
       "1137  Women Do six percent of the Work but get all o...      1   sexist\n",
       "1138   My Big Bang Theory Is: Women Don’t Like Physics.      1   sexist\n",
       "1139   this area of study was invented and built by men      1   sexist\n",
       "1140  Katie and several other women scientists on ou...      0  neutral\n",
       "1141  There’s a trove of research suggesting that wo...      0  neutral\n",
       "\n",
       "[1142 rows x 3 columns]"
      ]
     },
     "execution_count": 184,
     "metadata": {},
     "output_type": "execute_result"
    }
   ],
   "source": [
    "decision = {0: 'neutral', 1: 'sexist'}\n",
    "def decision_convert(x):\n",
    "    return decision[x]\n",
    "\n",
    "df['Category'] = df['Category'].apply(lambda x: decision_convert(x))\n",
    "df"
   ]
  },
  {
   "cell_type": "code",
   "execution_count": 185,
   "metadata": {},
   "outputs": [
    {
     "data": {
      "text/plain": [
       "sexist     627\n",
       "neutral    515\n",
       "Name: Category, dtype: int64"
      ]
     },
     "execution_count": 185,
     "metadata": {},
     "output_type": "execute_result"
    }
   ],
   "source": [
    "# Grouping data by label\n",
    "df['Category'].value_counts()"
   ]
  },
  {
   "cell_type": "code",
   "execution_count": 186,
   "metadata": {},
   "outputs": [
    {
     "name": "stdout",
     "output_type": "stream",
     "text": [
      "Examples:\n",
      "    Total: 1142\n",
      "    Sexist: 627 (54.90% of total)\n",
      "\n",
      "Examples:\n",
      "    Total: 1142\n",
      "    Neither: 515 (45.10% of total)\n",
      "\n"
     ]
    }
   ],
   "source": [
    "neither, sexist = np.bincount(df['Label'])\n",
    "total = sexist + neither\n",
    "print('Examples:\\n    Total: {}\\n    Sexist: {} ({:.2f}% of total)\\n'.format(\n",
    "    total, sexist, 100 * sexist / total))\n",
    "print('Examples:\\n    Total: {}\\n    Neither: {} ({:.2f}% of total)\\n'.format(\n",
    "    total, neither, 100 * neither / total))"
   ]
  },
  {
   "cell_type": "code",
   "execution_count": 187,
   "metadata": {},
   "outputs": [],
   "source": [
    "X_train_, X_test, y_train_, y_test = train_test_split(\n",
    "    df.index.values,\n",
    "    df.Label.values,\n",
    "    test_size=0.20,\n",
    "    random_state=12,\n",
    "    stratify=df.Label.values,    \n",
    ")"
   ]
  },
  {
   "cell_type": "code",
   "execution_count": 188,
   "metadata": {},
   "outputs": [],
   "source": [
    " X_train, X_val, y_train, y_val = train_test_split(\n",
    "     df.loc[X_train_].index.values,\n",
    "     df.loc[X_train_].Label.values,\n",
    "     test_size=0.20,\n",
    "     random_state=12,\n",
    "     stratify=df.loc[X_train_].Label.values,  \n",
    " )"
   ]
  },
  {
   "cell_type": "code",
   "execution_count": 189,
   "metadata": {},
   "outputs": [],
   "source": [
    "df['data_type'] = ['not_set']*df.shape[0]\n",
    "df.loc[X_train_, 'data_type'] = 'train'\n",
    "df.loc[X_val, 'data_type'] = 'val'\n",
    "df.loc[X_test, 'data_type'] = 'test'"
   ]
  },
  {
   "cell_type": "code",
   "execution_count": 190,
   "metadata": {},
   "outputs": [
    {
     "data": {
      "text/html": [
       "<div>\n",
       "<style scoped>\n",
       "    .dataframe tbody tr th:only-of-type {\n",
       "        vertical-align: middle;\n",
       "    }\n",
       "\n",
       "    .dataframe tbody tr th {\n",
       "        vertical-align: top;\n",
       "    }\n",
       "\n",
       "    .dataframe thead th {\n",
       "        text-align: right;\n",
       "    }\n",
       "</style>\n",
       "<table border=\"1\" class=\"dataframe\">\n",
       "  <thead>\n",
       "    <tr style=\"text-align: right;\">\n",
       "      <th></th>\n",
       "      <th></th>\n",
       "      <th></th>\n",
       "      <th>Sentence</th>\n",
       "    </tr>\n",
       "    <tr>\n",
       "      <th>Category</th>\n",
       "      <th>Label</th>\n",
       "      <th>data_type</th>\n",
       "      <th></th>\n",
       "    </tr>\n",
       "  </thead>\n",
       "  <tbody>\n",
       "    <tr>\n",
       "      <th rowspan=\"3\" valign=\"top\">neutral</th>\n",
       "      <th rowspan=\"3\" valign=\"top\">0</th>\n",
       "      <th>test</th>\n",
       "      <td>103</td>\n",
       "    </tr>\n",
       "    <tr>\n",
       "      <th>train</th>\n",
       "      <td>329</td>\n",
       "    </tr>\n",
       "    <tr>\n",
       "      <th>val</th>\n",
       "      <td>83</td>\n",
       "    </tr>\n",
       "    <tr>\n",
       "      <th rowspan=\"3\" valign=\"top\">sexist</th>\n",
       "      <th rowspan=\"3\" valign=\"top\">1</th>\n",
       "      <th>test</th>\n",
       "      <td>126</td>\n",
       "    </tr>\n",
       "    <tr>\n",
       "      <th>train</th>\n",
       "      <td>401</td>\n",
       "    </tr>\n",
       "    <tr>\n",
       "      <th>val</th>\n",
       "      <td>100</td>\n",
       "    </tr>\n",
       "  </tbody>\n",
       "</table>\n",
       "</div>"
      ],
      "text/plain": [
       "                          Sentence\n",
       "Category Label data_type          \n",
       "neutral  0     test            103\n",
       "               train           329\n",
       "               val              83\n",
       "sexist   1     test            126\n",
       "               train           401\n",
       "               val             100"
      ]
     },
     "execution_count": 190,
     "metadata": {},
     "output_type": "execute_result"
    }
   ],
   "source": [
    "df.groupby(['Category', 'Label','data_type']).count()"
   ]
  },
  {
   "cell_type": "code",
   "execution_count": 191,
   "metadata": {},
   "outputs": [
    {
     "data": {
      "text/html": [
       "<div>\n",
       "<style scoped>\n",
       "    .dataframe tbody tr th:only-of-type {\n",
       "        vertical-align: middle;\n",
       "    }\n",
       "\n",
       "    .dataframe tbody tr th {\n",
       "        vertical-align: top;\n",
       "    }\n",
       "\n",
       "    .dataframe thead th {\n",
       "        text-align: right;\n",
       "    }\n",
       "</style>\n",
       "<table border=\"1\" class=\"dataframe\">\n",
       "  <thead>\n",
       "    <tr style=\"text-align: right;\">\n",
       "      <th></th>\n",
       "      <th>Sentence</th>\n",
       "      <th>Label</th>\n",
       "      <th>Category</th>\n",
       "      <th>data_type</th>\n",
       "    </tr>\n",
       "  </thead>\n",
       "  <tbody>\n",
       "    <tr>\n",
       "      <th>0</th>\n",
       "      <td>For a woman, that is good</td>\n",
       "      <td>1</td>\n",
       "      <td>sexist</td>\n",
       "      <td>test</td>\n",
       "    </tr>\n",
       "    <tr>\n",
       "      <th>1</th>\n",
       "      <td>Just dress sexy and you will sign any contract.</td>\n",
       "      <td>1</td>\n",
       "      <td>sexist</td>\n",
       "      <td>test</td>\n",
       "    </tr>\n",
       "    <tr>\n",
       "      <th>2</th>\n",
       "      <td>Are you having period ?</td>\n",
       "      <td>1</td>\n",
       "      <td>sexist</td>\n",
       "      <td>val</td>\n",
       "    </tr>\n",
       "    <tr>\n",
       "      <th>3</th>\n",
       "      <td>Stop being bitchy</td>\n",
       "      <td>1</td>\n",
       "      <td>sexist</td>\n",
       "      <td>val</td>\n",
       "    </tr>\n",
       "    <tr>\n",
       "      <th>4</th>\n",
       "      <td>I leave early because of her children instead ...</td>\n",
       "      <td>1</td>\n",
       "      <td>sexist</td>\n",
       "      <td>train</td>\n",
       "    </tr>\n",
       "    <tr>\n",
       "      <th>...</th>\n",
       "      <td>...</td>\n",
       "      <td>...</td>\n",
       "      <td>...</td>\n",
       "      <td>...</td>\n",
       "    </tr>\n",
       "    <tr>\n",
       "      <th>1137</th>\n",
       "      <td>Women Do six percent of the Work but get all o...</td>\n",
       "      <td>1</td>\n",
       "      <td>sexist</td>\n",
       "      <td>train</td>\n",
       "    </tr>\n",
       "    <tr>\n",
       "      <th>1138</th>\n",
       "      <td>My Big Bang Theory Is: Women Don’t Like Physics.</td>\n",
       "      <td>1</td>\n",
       "      <td>sexist</td>\n",
       "      <td>train</td>\n",
       "    </tr>\n",
       "    <tr>\n",
       "      <th>1139</th>\n",
       "      <td>this area of study was invented and built by men</td>\n",
       "      <td>1</td>\n",
       "      <td>sexist</td>\n",
       "      <td>train</td>\n",
       "    </tr>\n",
       "    <tr>\n",
       "      <th>1140</th>\n",
       "      <td>Katie and several other women scientists on ou...</td>\n",
       "      <td>0</td>\n",
       "      <td>neutral</td>\n",
       "      <td>train</td>\n",
       "    </tr>\n",
       "    <tr>\n",
       "      <th>1141</th>\n",
       "      <td>There’s a trove of research suggesting that wo...</td>\n",
       "      <td>0</td>\n",
       "      <td>neutral</td>\n",
       "      <td>val</td>\n",
       "    </tr>\n",
       "  </tbody>\n",
       "</table>\n",
       "<p>1142 rows × 4 columns</p>\n",
       "</div>"
      ],
      "text/plain": [
       "                                               Sentence  Label Category  \\\n",
       "0                             For a woman, that is good      1   sexist   \n",
       "1       Just dress sexy and you will sign any contract.      1   sexist   \n",
       "2                               Are you having period ?      1   sexist   \n",
       "3                                     Stop being bitchy      1   sexist   \n",
       "4     I leave early because of her children instead ...      1   sexist   \n",
       "...                                                 ...    ...      ...   \n",
       "1137  Women Do six percent of the Work but get all o...      1   sexist   \n",
       "1138   My Big Bang Theory Is: Women Don’t Like Physics.      1   sexist   \n",
       "1139   this area of study was invented and built by men      1   sexist   \n",
       "1140  Katie and several other women scientists on ou...      0  neutral   \n",
       "1141  There’s a trove of research suggesting that wo...      0  neutral   \n",
       "\n",
       "     data_type  \n",
       "0         test  \n",
       "1         test  \n",
       "2          val  \n",
       "3          val  \n",
       "4        train  \n",
       "...        ...  \n",
       "1137     train  \n",
       "1138     train  \n",
       "1139     train  \n",
       "1140     train  \n",
       "1141       val  \n",
       "\n",
       "[1142 rows x 4 columns]"
      ]
     },
     "execution_count": 191,
     "metadata": {},
     "output_type": "execute_result"
    }
   ],
   "source": [
    "df"
   ]
  },
  {
   "cell_type": "code",
   "execution_count": 192,
   "metadata": {},
   "outputs": [
    {
     "data": {
      "text/html": [
       "<div>\n",
       "<style scoped>\n",
       "    .dataframe tbody tr th:only-of-type {\n",
       "        vertical-align: middle;\n",
       "    }\n",
       "\n",
       "    .dataframe tbody tr th {\n",
       "        vertical-align: top;\n",
       "    }\n",
       "\n",
       "    .dataframe thead th {\n",
       "        text-align: right;\n",
       "    }\n",
       "</style>\n",
       "<table border=\"1\" class=\"dataframe\">\n",
       "  <thead>\n",
       "    <tr style=\"text-align: right;\">\n",
       "      <th></th>\n",
       "      <th>Sentence</th>\n",
       "      <th>Label</th>\n",
       "      <th>Category</th>\n",
       "      <th>data_type</th>\n",
       "    </tr>\n",
       "  </thead>\n",
       "  <tbody>\n",
       "    <tr>\n",
       "      <th>4</th>\n",
       "      <td>I leave early because of her children instead ...</td>\n",
       "      <td>1</td>\n",
       "      <td>sexist</td>\n",
       "      <td>train</td>\n",
       "    </tr>\n",
       "    <tr>\n",
       "      <th>5</th>\n",
       "      <td>You can thank the quotas</td>\n",
       "      <td>1</td>\n",
       "      <td>sexist</td>\n",
       "      <td>train</td>\n",
       "    </tr>\n",
       "    <tr>\n",
       "      <th>7</th>\n",
       "      <td>That is a woman thing</td>\n",
       "      <td>1</td>\n",
       "      <td>sexist</td>\n",
       "      <td>train</td>\n",
       "    </tr>\n",
       "    <tr>\n",
       "      <th>8</th>\n",
       "      <td>You are too emotional</td>\n",
       "      <td>1</td>\n",
       "      <td>sexist</td>\n",
       "      <td>train</td>\n",
       "    </tr>\n",
       "    <tr>\n",
       "      <th>9</th>\n",
       "      <td>You have to wear a dress</td>\n",
       "      <td>1</td>\n",
       "      <td>sexist</td>\n",
       "      <td>train</td>\n",
       "    </tr>\n",
       "  </tbody>\n",
       "</table>\n",
       "</div>"
      ],
      "text/plain": [
       "                                            Sentence  Label Category data_type\n",
       "4  I leave early because of her children instead ...      1   sexist     train\n",
       "5                           You can thank the quotas      1   sexist     train\n",
       "7                              That is a woman thing      1   sexist     train\n",
       "8                              You are too emotional      1   sexist     train\n",
       "9                           You have to wear a dress      1   sexist     train"
      ]
     },
     "execution_count": 192,
     "metadata": {},
     "output_type": "execute_result"
    }
   ],
   "source": [
    "df_train = df.loc[df[\"data_type\"]==\"train\"]\n",
    "df_val = df.loc[df[\"data_type\"]==\"val\"]\n",
    "df_test = df.loc[df[\"data_type\"]==\"test\"]\n",
    "\n",
    "df_train.head()"
   ]
  },
  {
   "cell_type": "code",
   "execution_count": 193,
   "metadata": {},
   "outputs": [
    {
     "data": {
      "text/html": [
       "<div>\n",
       "<style scoped>\n",
       "    .dataframe tbody tr th:only-of-type {\n",
       "        vertical-align: middle;\n",
       "    }\n",
       "\n",
       "    .dataframe tbody tr th {\n",
       "        vertical-align: top;\n",
       "    }\n",
       "\n",
       "    .dataframe thead th {\n",
       "        text-align: right;\n",
       "    }\n",
       "</style>\n",
       "<table border=\"1\" class=\"dataframe\">\n",
       "  <thead>\n",
       "    <tr style=\"text-align: right;\">\n",
       "      <th></th>\n",
       "      <th>Sentence</th>\n",
       "      <th>Label</th>\n",
       "      <th>Category</th>\n",
       "      <th>data_type</th>\n",
       "    </tr>\n",
       "  </thead>\n",
       "  <tbody>\n",
       "    <tr>\n",
       "      <th>4</th>\n",
       "      <td>I leave early because of her children instead ...</td>\n",
       "      <td>1</td>\n",
       "      <td>sexist</td>\n",
       "      <td>train</td>\n",
       "    </tr>\n",
       "    <tr>\n",
       "      <th>5</th>\n",
       "      <td>You can thank the quotas</td>\n",
       "      <td>1</td>\n",
       "      <td>sexist</td>\n",
       "      <td>train</td>\n",
       "    </tr>\n",
       "    <tr>\n",
       "      <th>7</th>\n",
       "      <td>That is a woman thing</td>\n",
       "      <td>1</td>\n",
       "      <td>sexist</td>\n",
       "      <td>train</td>\n",
       "    </tr>\n",
       "    <tr>\n",
       "      <th>8</th>\n",
       "      <td>You are too emotional</td>\n",
       "      <td>1</td>\n",
       "      <td>sexist</td>\n",
       "      <td>train</td>\n",
       "    </tr>\n",
       "    <tr>\n",
       "      <th>9</th>\n",
       "      <td>You have to wear a dress</td>\n",
       "      <td>1</td>\n",
       "      <td>sexist</td>\n",
       "      <td>train</td>\n",
       "    </tr>\n",
       "  </tbody>\n",
       "</table>\n",
       "</div>"
      ],
      "text/plain": [
       "                                            Sentence  Label Category data_type\n",
       "4  I leave early because of her children instead ...      1   sexist     train\n",
       "5                           You can thank the quotas      1   sexist     train\n",
       "7                              That is a woman thing      1   sexist     train\n",
       "8                              You are too emotional      1   sexist     train\n",
       "9                           You have to wear a dress      1   sexist     train"
      ]
     },
     "execution_count": 193,
     "metadata": {},
     "output_type": "execute_result"
    }
   ],
   "source": [
    "df_train_plus_val = pd.concat([df_train,df_val], axis=0)\n",
    "df_train_plus_val.head()"
   ]
  },
  {
   "cell_type": "code",
   "execution_count": 194,
   "metadata": {},
   "outputs": [],
   "source": [
    "x = df_train_plus_val.Sentence.values\n",
    "y = df_train_plus_val.Label.values"
   ]
  },
  {
   "cell_type": "code",
   "execution_count": 195,
   "metadata": {},
   "outputs": [],
   "source": [
    "max_features = 20000\n",
    "max_text_length = 512"
   ]
  },
  {
   "cell_type": "code",
   "execution_count": 196,
   "metadata": {},
   "outputs": [],
   "source": [
    "x_tokenizer = text.Tokenizer(max_features)\n",
    "x_tokenizer.fit_on_texts(list(x))"
   ]
  },
  {
   "cell_type": "code",
   "execution_count": 197,
   "metadata": {},
   "outputs": [],
   "source": [
    "x_tokenized = x_tokenizer.texts_to_sequences(x)\n",
    "x_train_val= sequence.pad_sequences(x_tokenized, maxlen=max_text_length)"
   ]
  },
  {
   "cell_type": "code",
   "execution_count": 198,
   "metadata": {},
   "outputs": [],
   "source": [
    "x_test_tokenized = x_tokenizer.texts_to_sequences(df_test.Sentence.values)\n",
    "x_test = sequence.pad_sequences(x_test_tokenized,maxlen=max_text_length)"
   ]
  },
  {
   "cell_type": "code",
   "execution_count": 242,
   "metadata": {},
   "outputs": [
    {
     "name": "stdout",
     "output_type": "stream",
     "text": [
      "Found 400000 word vectors\n"
     ]
    }
   ],
   "source": [
    "embedding_dim =100\n",
    "embeddings_index = dict()\n",
    "f = open('glove.6b.100d.txt', encoding=\"utf8\")\n",
    "for line in f:\n",
    "    values = line.split()\n",
    "    word = values[0]\n",
    "    coefs = np.asarray(values[1:],dtype='float32')\n",
    "    embeddings_index[word]= coefs\n",
    "f.close()\n",
    "print(f'Found {len(embeddings_index)} word vectors')"
   ]
  },
  {
   "cell_type": "code",
   "execution_count": 243,
   "metadata": {},
   "outputs": [],
   "source": [
    "embedding_matrix= np.zeros((max_features,embedding_dim))\n",
    "for word, index in x_tokenizer.word_index.items():\n",
    "    if index>max_features-1:\n",
    "        break\n",
    "    else:\n",
    "        embedding_vector = embeddings_index.get(word)\n",
    "        if embedding_vector is not None:\n",
    "            embedding_matrix[index]= embedding_vector"
   ]
  },
  {
   "cell_type": "code",
   "execution_count": 244,
   "metadata": {},
   "outputs": [
    {
     "data": {
      "text/plain": [
       "array([[0., 1., 0.],\n",
       "       [0., 1., 0.],\n",
       "       [0., 1., 0.],\n",
       "       ...,\n",
       "       [1., 0., 0.],\n",
       "       [1., 0., 0.],\n",
       "       [1., 0., 0.]], dtype=float32)"
      ]
     },
     "execution_count": 244,
     "metadata": {},
     "output_type": "execute_result"
    }
   ],
   "source": [
    "y_train_plus_val =  tf.keras.utils.to_categorical(y, num_classes=3)\n",
    "y_test =  tf.keras.utils.to_categorical(df_test.Label, num_classes=3)\n",
    "y_train_plus_val"
   ]
  },
  {
   "cell_type": "markdown",
   "metadata": {},
   "source": [
    "# Building 1 D CNN Model"
   ]
  },
  {
   "cell_type": "code",
   "execution_count": 572,
   "metadata": {},
   "outputs": [
    {
     "name": "stdout",
     "output_type": "stream",
     "text": [
      "Model: \"sequential_93\"\n",
      "_________________________________________________________________\n",
      " Layer (type)                Output Shape              Param #   \n",
      "=================================================================\n",
      " embedding_93 (Embedding)    (None, None, 100)         2000000   \n",
      "                                                                 \n",
      " bidirectional_98 (Bidirecti  (None, None, 128)        84480     \n",
      " onal)                                                           \n",
      "                                                                 \n",
      " dropout_174 (Dropout)       (None, None, 128)         0         \n",
      "                                                                 \n",
      " conv1d_320 (Conv1D)         (None, None, 64)          16448     \n",
      "                                                                 \n",
      " max_pooling1d_175 (MaxPooli  (None, None, 64)         0         \n",
      " ng1D)                                                           \n",
      "                                                                 \n",
      " conv1d_321 (Conv1D)         (None, None, 64)          8256      \n",
      "                                                                 \n",
      " max_pooling1d_176 (MaxPooli  (None, None, 64)         0         \n",
      " ng1D)                                                           \n",
      "                                                                 \n",
      " conv1d_322 (Conv1D)         (None, None, 32)          4128      \n",
      "                                                                 \n",
      " max_pooling1d_177 (MaxPooli  (None, None, 32)         0         \n",
      " ng1D)                                                           \n",
      "                                                                 \n",
      " conv1d_323 (Conv1D)         (None, None, 32)          2080      \n",
      "                                                                 \n",
      " bidirectional_99 (Bidirecti  (None, 64)               16640     \n",
      " onal)                                                           \n",
      "                                                                 \n",
      " dense_234 (Dense)           (None, 16)                1040      \n",
      "                                                                 \n",
      " dense_235 (Dense)           (None, 16)                272       \n",
      "                                                                 \n",
      " dropout_175 (Dropout)       (None, 16)                0         \n",
      "                                                                 \n",
      " dense_236 (Dense)           (None, 3)                 51        \n",
      "                                                                 \n",
      "=================================================================\n",
      "Total params: 2,133,395\n",
      "Trainable params: 133,395\n",
      "Non-trainable params: 2,000,000\n",
      "_________________________________________________________________\n"
     ]
    }
   ],
   "source": [
    "model = Sequential()\n",
    "model.add(Embedding(max_features,\n",
    "                    embedding_dim,\n",
    "                    embeddings_initializer=tf.keras.initializers.Constant(embedding_matrix),\n",
    "                    trainable=False))\n",
    "\n",
    "model.add(Bidirectional(LSTM(64,return_sequences=True)))\n",
    "\n",
    "model.add(Dropout(0.5))\n",
    "\n",
    "model.add(Conv1D(64,2,padding='valid',activation='relu'))\n",
    "model.add(MaxPooling1D())\n",
    "model.add(Conv1D(64,2,padding='valid',activation='relu'))\n",
    "model.add(MaxPooling1D())\n",
    "\n",
    "model.add(Conv1D(32,2,padding='valid', activation='relu'))\n",
    "model.add(MaxPooling1D())\n",
    "model.add(Conv1D(32,2,padding='valid',activation='relu'))\n",
    "#model.add(GlobalMaxPooling1D())\n",
    "\n",
    "model.add(Bidirectional(LSTM(32,return_sequences=False)))\n",
    "\n",
    "model.add(Dense(16, activation='tanh'))\n",
    "model.add(Dense(16, activation='tanh'))\n",
    "model.add(Dropout(0.5))\n",
    "\n",
    "#model.add(GlobalMaxPooling1D())\n",
    "\n",
    "model.add(Dense(3, activation='softmax'))\n",
    "model.summary()"
   ]
  },
  {
   "cell_type": "code",
   "execution_count": 573,
   "metadata": {},
   "outputs": [],
   "source": [
    "model.compile(loss='categorical_crossentropy',optimizer='Adam', metrics=['accuracy'])"
   ]
  },
  {
   "cell_type": "code",
   "execution_count": 574,
   "metadata": {
    "scrolled": true
   },
   "outputs": [
    {
     "name": "stdout",
     "output_type": "stream",
     "text": [
      "Epoch 1/15\n",
      "61/61 [==============================] - 19s 222ms/step - loss: 0.8503 - accuracy: 0.5233 - val_loss: 0.7141 - val_accuracy: 0.5464\n",
      "Epoch 2/15\n",
      "61/61 [==============================] - 13s 208ms/step - loss: 0.7542 - accuracy: 0.5329 - val_loss: 0.6994 - val_accuracy: 0.5464\n",
      "Epoch 3/15\n",
      "61/61 [==============================] - 13s 211ms/step - loss: 0.7209 - accuracy: 0.5795 - val_loss: 0.6861 - val_accuracy: 0.6284\n",
      "Epoch 4/15\n",
      "61/61 [==============================] - 13s 209ms/step - loss: 0.6246 - accuracy: 0.6877 - val_loss: 0.5413 - val_accuracy: 0.7268\n",
      "Epoch 5/15\n",
      "61/61 [==============================] - 12s 202ms/step - loss: 0.5100 - accuracy: 0.7918 - val_loss: 0.5947 - val_accuracy: 0.7322\n",
      "Epoch 6/15\n",
      "61/61 [==============================] - 12s 205ms/step - loss: 0.4932 - accuracy: 0.8082 - val_loss: 0.4753 - val_accuracy: 0.7760\n",
      "Epoch 7/15\n",
      "61/61 [==============================] - 13s 212ms/step - loss: 0.4600 - accuracy: 0.8260 - val_loss: 0.5133 - val_accuracy: 0.7705\n",
      "Epoch 8/15\n",
      "61/61 [==============================] - 13s 207ms/step - loss: 0.4231 - accuracy: 0.8521 - val_loss: 0.4398 - val_accuracy: 0.8197\n",
      "Epoch 9/15\n",
      "61/61 [==============================] - 12s 202ms/step - loss: 0.3929 - accuracy: 0.8685 - val_loss: 0.4380 - val_accuracy: 0.8306\n",
      "Epoch 10/15\n",
      "61/61 [==============================] - 12s 202ms/step - loss: 0.3700 - accuracy: 0.8767 - val_loss: 0.4254 - val_accuracy: 0.8197\n",
      "Epoch 11/15\n",
      "61/61 [==============================] - 12s 202ms/step - loss: 0.5782 - accuracy: 0.7534 - val_loss: 0.4566 - val_accuracy: 0.8142\n",
      "Epoch 12/15\n",
      "61/61 [==============================] - 12s 202ms/step - loss: 0.4577 - accuracy: 0.8342 - val_loss: 0.4144 - val_accuracy: 0.8470\n",
      "Epoch 13/15\n",
      "61/61 [==============================] - 12s 202ms/step - loss: 0.4682 - accuracy: 0.8205 - val_loss: 0.4409 - val_accuracy: 0.8306\n",
      "Epoch 14/15\n",
      "61/61 [==============================] - 13s 207ms/step - loss: 0.3909 - accuracy: 0.8753 - val_loss: 0.4449 - val_accuracy: 0.8306\n",
      "Epoch 15/15\n",
      "61/61 [==============================] - 13s 208ms/step - loss: 0.4397 - accuracy: 0.8438 - val_loss: 0.4447 - val_accuracy: 0.8361\n"
     ]
    }
   ],
   "source": [
    "history = model.fit(x_train_val, y_train_plus_val, batch_size= 12, validation_split=0.2, epochs=15)"
   ]
  },
  {
   "cell_type": "code",
   "execution_count": 575,
   "metadata": {},
   "outputs": [
    {
     "data": {
      "image/png": "[encoded data removed]",
      "text/plain": [
       "<Figure size 432x288 with 1 Axes>"
      ]
     },
     "metadata": {},
     "output_type": "display_data"
    }
   ],
   "source": [
    "# Plot loss\n",
    "plt.plot(history.history['loss'], label='train')\n",
    "plt.plot(history.history['val_loss'], label='validation')\n",
    "plt.xlabel('Epochs')\n",
    "plt.ylabel('Loss')\n",
    "plt.title('Training loss vs. Epochs')\n",
    "plt.legend()\n",
    "plt.show()"
   ]
  },
  {
   "cell_type": "code",
   "execution_count": 576,
   "metadata": {},
   "outputs": [
    {
     "data": {
      "image/png": "[encoded data removed]",
      "text/plain": [
       "<Figure size 432x288 with 1 Axes>"
      ]
     },
     "metadata": {},
     "output_type": "display_data"
    }
   ],
   "source": [
    "# Plot accuracy\n",
    "plt.plot(history.history['accuracy'], label='train')\n",
    "plt.plot(history.history['val_accuracy'], label='validation')\n",
    "plt.xlabel('Epochs')\n",
    "plt.ylabel('Accuracy')\n",
    "plt.title('Training accuracy vs. Epochs')\n",
    "plt.legend()\n",
    "plt.show()"
   ]
  },
  {
   "cell_type": "code",
   "execution_count": 577,
   "metadata": {},
   "outputs": [
    {
     "name": "stdout",
     "output_type": "stream",
     "text": [
      "4/4 [==============================] - 1s 142ms/step - loss: 0.4123 - accuracy: 0.8472\n"
     ]
    },
    {
     "data": {
      "text/plain": [
       "[0.41234371066093445, 0.847161591053009]"
      ]
     },
     "execution_count": 577,
     "metadata": {},
     "output_type": "execute_result"
    }
   ],
   "source": [
    "model.evaluate(x_test,y_test, batch_size = 64)"
   ]
  },
  {
   "cell_type": "code",
   "execution_count": 578,
   "metadata": {},
   "outputs": [
    {
     "data": {
      "text/plain": [
       "array([[8.62262845e-02, 9.12474573e-01, 1.29912654e-03],\n",
       "       [9.87368599e-02, 9.00102735e-01, 1.16049894e-03],\n",
       "       [7.48735294e-02, 9.23594832e-01, 1.53160177e-03],\n",
       "       [7.03055710e-02, 9.28371727e-01, 1.32269796e-03],\n",
       "       [5.83408296e-01, 4.14942473e-01, 1.64919603e-03],\n",
       "       [7.70743638e-02, 9.21527743e-01, 1.39787619e-03],\n",
       "       [5.85877597e-01, 4.12298560e-01, 1.82376173e-03],\n",
       "       [7.96825647e-01, 2.00530678e-01, 2.64374004e-03],\n",
       "       [8.04772824e-02, 9.18157995e-01, 1.36472518e-03],\n",
       "       [6.88541770e-01, 3.09237152e-01, 2.22112914e-03],\n",
       "       [7.76278079e-02, 9.20940936e-01, 1.43131462e-03],\n",
       "       [6.96458444e-02, 9.28826034e-01, 1.52807450e-03],\n",
       "       [8.89180005e-01, 1.06973939e-01, 3.84602812e-03],\n",
       "       [8.95451546e-01, 1.00361802e-01, 4.18663863e-03],\n",
       "       [8.87726307e-01, 1.08318694e-01, 3.95502802e-03],\n",
       "       [7.58627579e-02, 9.22646821e-01, 1.49044662e-03],\n",
       "       [7.23183826e-02, 9.26436067e-01, 1.24556082e-03],\n",
       "       [4.06810313e-01, 5.91895640e-01, 1.29403139e-03],\n",
       "       [7.92592764e-02, 9.19374645e-01, 1.36597978e-03],\n",
       "       [8.76084030e-01, 1.20468073e-01, 3.44787817e-03],\n",
       "       [8.83864880e-01, 1.12502970e-01, 3.63214384e-03],\n",
       "       [7.08437487e-02, 9.27888572e-01, 1.26773934e-03],\n",
       "       [7.79549718e-01, 2.17881158e-01, 2.56908662e-03],\n",
       "       [8.77582192e-01, 1.18905216e-01, 3.51253524e-03],\n",
       "       [7.67921686e-01, 2.29757115e-01, 2.32130429e-03],\n",
       "       [7.10234642e-02, 9.27495182e-01, 1.48138043e-03],\n",
       "       [7.45380372e-02, 9.24016416e-01, 1.44546945e-03],\n",
       "       [8.39683831e-01, 1.57273725e-01, 3.04241828e-03],\n",
       "       [2.10171387e-01, 7.88907766e-01, 9.20785416e-04],\n",
       "       [8.31255093e-02, 9.15650547e-01, 1.22398336e-03],\n",
       "       [7.62587935e-02, 9.22294497e-01, 1.44671230e-03],\n",
       "       [2.00251222e-01, 7.98832059e-01, 9.16762452e-04],\n",
       "       [7.80623406e-02, 9.20506835e-01, 1.43076142e-03],\n",
       "       [8.61113787e-01, 1.35552093e-01, 3.33413878e-03],\n",
       "       [8.99093330e-01, 9.70170125e-02, 3.88966524e-03],\n",
       "       [7.53362849e-02, 9.23227012e-01, 1.43670652e-03],\n",
       "       [7.17162415e-02, 9.26912189e-01, 1.37157424e-03],\n",
       "       [2.56459773e-01, 7.42520750e-01, 1.01955177e-03],\n",
       "       [8.86218369e-01, 1.10116817e-01, 3.66479112e-03],\n",
       "       [8.94101918e-01, 1.01835519e-01, 4.06255107e-03],\n",
       "       [8.89508605e-01, 1.06842391e-01, 3.64895188e-03],\n",
       "       [7.05415905e-02, 9.28059042e-01, 1.39939750e-03],\n",
       "       [8.91545713e-01, 1.04569279e-01, 3.88498814e-03],\n",
       "       [9.03240323e-01, 9.31501687e-02, 3.60945310e-03],\n",
       "       [7.19295517e-02, 9.26787257e-01, 1.28321606e-03],\n",
       "       [8.29251826e-01, 1.67868525e-01, 2.87960190e-03],\n",
       "       [3.53110880e-01, 6.45779669e-01, 1.10947923e-03],\n",
       "       [7.23939463e-02, 9.26066518e-01, 1.53950579e-03],\n",
       "       [7.18793720e-02, 9.26837027e-01, 1.28366449e-03],\n",
       "       [1.40274361e-01, 8.58488321e-01, 1.23728043e-03],\n",
       "       [1.03786170e-01, 8.95000815e-01, 1.21300598e-03],\n",
       "       [7.30073974e-02, 9.25526142e-01, 1.46640453e-03],\n",
       "       [7.20087364e-02, 9.26617384e-01, 1.37392082e-03],\n",
       "       [7.63971955e-02, 9.22433674e-01, 1.16907840e-03],\n",
       "       [4.22994524e-01, 5.75012803e-01, 1.99275999e-03],\n",
       "       [7.47950524e-02, 9.23744917e-01, 1.46008318e-03],\n",
       "       [8.45695436e-02, 9.14035559e-01, 1.39495102e-03],\n",
       "       [7.96479702e-01, 2.00536951e-01, 2.98339967e-03],\n",
       "       [6.98559880e-02, 9.28661346e-01, 1.48271897e-03],\n",
       "       [7.09904879e-02, 9.27723050e-01, 1.28651678e-03],\n",
       "       [7.32247233e-02, 9.25273061e-01, 1.50215498e-03],\n",
       "       [8.92066717e-01, 1.03896521e-01, 4.03675670e-03],\n",
       "       [7.61786774e-02, 9.22375858e-01, 1.44550623e-03],\n",
       "       [7.12091848e-02, 9.27303195e-01, 1.48766919e-03],\n",
       "       [7.70035088e-02, 9.21732247e-01, 1.26423058e-03],\n",
       "       [8.35305810e-01, 1.61618754e-01, 3.07544833e-03],\n",
       "       [7.31892139e-02, 9.25261736e-01, 1.54900970e-03],\n",
       "       [7.75709078e-02, 9.20979500e-01, 1.44967041e-03],\n",
       "       [7.57044107e-02, 9.22825038e-01, 1.47052924e-03],\n",
       "       [8.23859498e-02, 9.16324615e-01, 1.28947024e-03],\n",
       "       [8.36765766e-01, 1.60197586e-01, 3.03663872e-03],\n",
       "       [7.41084218e-01, 2.56563842e-01, 2.35187914e-03],\n",
       "       [8.42564404e-01, 1.54306993e-01, 3.12860962e-03],\n",
       "       [8.45815778e-01, 1.51078358e-01, 3.10579804e-03],\n",
       "       [8.63532066e-01, 1.33063197e-01, 3.40467016e-03],\n",
       "       [8.58534276e-01, 1.38165623e-01, 3.30014806e-03],\n",
       "       [7.89585590e-01, 2.07747802e-01, 2.66656978e-03],\n",
       "       [7.84261405e-01, 2.13309765e-01, 2.42878124e-03],\n",
       "       [8.75875831e-01, 1.20602198e-01, 3.52193485e-03],\n",
       "       [8.14668179e-01, 1.82580665e-01, 2.75116647e-03],\n",
       "       [6.73074305e-01, 3.24814796e-01, 2.11090501e-03],\n",
       "       [8.71255040e-01, 1.25298858e-01, 3.44614312e-03],\n",
       "       [8.88552368e-01, 1.07737623e-01, 3.70995188e-03],\n",
       "       [8.39083016e-01, 1.58075199e-01, 2.84183142e-03],\n",
       "       [7.22825974e-02, 9.26415801e-01, 1.30157999e-03],\n",
       "       [7.20547959e-02, 9.26664472e-01, 1.28079916e-03],\n",
       "       [7.54372403e-02, 9.23142433e-01, 1.42037799e-03],\n",
       "       [7.49611333e-02, 9.23813879e-01, 1.22489885e-03],\n",
       "       [7.37341866e-02, 9.24735606e-01, 1.53015542e-03],\n",
       "       [7.22432882e-02, 9.26266551e-01, 1.49011507e-03],\n",
       "       [7.39852488e-02, 9.24587011e-01, 1.42772391e-03],\n",
       "       [2.34714866e-01, 7.64347672e-01, 9.37531702e-04],\n",
       "       [8.19918141e-02, 9.16645885e-01, 1.36233342e-03],\n",
       "       [7.06718937e-02, 9.27940071e-01, 1.38809695e-03],\n",
       "       [3.42157811e-01, 6.56385362e-01, 1.45688863e-03],\n",
       "       [8.05327371e-02, 9.18080568e-01, 1.38661254e-03],\n",
       "       [8.20034891e-02, 9.16648090e-01, 1.34845683e-03],\n",
       "       [7.19426647e-02, 9.26772177e-01, 1.28507812e-03],\n",
       "       [7.40140006e-02, 9.24682021e-01, 1.30402122e-03],\n",
       "       [1.05661318e-01, 8.93365562e-01, 9.73063463e-04],\n",
       "       [7.14906827e-02, 9.27025437e-01, 1.48385670e-03],\n",
       "       [7.52786547e-02, 9.23210561e-01, 1.51072175e-03],\n",
       "       [7.05330968e-02, 9.28145945e-01, 1.32092438e-03],\n",
       "       [7.23712593e-02, 9.26237702e-01, 1.39097450e-03],\n",
       "       [1.66870043e-01, 8.31976771e-01, 1.15318946e-03],\n",
       "       [9.00123000e-01, 9.57578048e-02, 4.11929516e-03],\n",
       "       [7.04195201e-02, 9.28143859e-01, 1.43655797e-03],\n",
       "       [7.16527775e-02, 9.27024126e-01, 1.32310914e-03],\n",
       "       [1.40730873e-01, 8.58260512e-01, 1.00855425e-03],\n",
       "       [7.72743896e-02, 9.21278477e-01, 1.44712382e-03],\n",
       "       [8.70412290e-01, 1.26197353e-01, 3.39043117e-03],\n",
       "       [7.13174120e-02, 9.27203059e-01, 1.47957704e-03],\n",
       "       [8.71615231e-01, 1.24872416e-01, 3.51240160e-03],\n",
       "       [7.46005103e-02, 9.23997879e-01, 1.40167598e-03],\n",
       "       [8.83902729e-01, 1.12434790e-01, 3.66249238e-03],\n",
       "       [7.45430589e-02, 9.23881888e-01, 1.57507276e-03],\n",
       "       [7.97306523e-02, 9.18985784e-01, 1.28348905e-03],\n",
       "       [7.38775656e-02, 9.24612522e-01, 1.50992756e-03],\n",
       "       [8.33462238e-01, 1.63519263e-01, 3.01851076e-03],\n",
       "       [7.89415166e-02, 9.19658899e-01, 1.39951124e-03],\n",
       "       [1.11865148e-01, 8.87082875e-01, 1.05196668e-03],\n",
       "       [9.76257250e-02, 9.01224911e-01, 1.14934985e-03],\n",
       "       [7.83669949e-02, 9.20261025e-01, 1.37196633e-03],\n",
       "       [7.45013505e-02, 9.24055874e-01, 1.44275813e-03],\n",
       "       [1.07432619e-01, 8.91599536e-01, 9.67805041e-04],\n",
       "       [1.93144053e-01, 8.05618405e-01, 1.23750162e-03],\n",
       "       [7.18252957e-02, 9.26923752e-01, 1.25092757e-03],\n",
       "       [7.29543716e-02, 9.25644100e-01, 1.40150555e-03],\n",
       "       [7.70066082e-02, 9.21543241e-01, 1.45020778e-03],\n",
       "       [2.00251237e-01, 7.98832059e-01, 9.16761986e-04],\n",
       "       [8.56443763e-01, 1.39863640e-01, 3.69255943e-03],\n",
       "       [8.79187658e-02, 9.10843968e-01, 1.23728765e-03],\n",
       "       [8.60591605e-02, 9.12608325e-01, 1.33246230e-03],\n",
       "       [7.24810585e-02, 9.26225007e-01, 1.29395246e-03],\n",
       "       [7.10474178e-02, 9.27587926e-01, 1.36466720e-03],\n",
       "       [9.77403000e-02, 9.01054263e-01, 1.20539311e-03],\n",
       "       [9.56630483e-02, 9.03258801e-01, 1.07814185e-03],\n",
       "       [7.24142119e-02, 9.26340520e-01, 1.24530878e-03],\n",
       "       [6.91339374e-02, 9.29276645e-01, 1.58947892e-03],\n",
       "       [7.12412819e-02, 9.27455544e-01, 1.30319246e-03],\n",
       "       [7.38084689e-02, 9.24876034e-01, 1.31550140e-03],\n",
       "       [2.23127201e-01, 7.75512993e-01, 1.35974749e-03],\n",
       "       [1.99350968e-01, 7.99434423e-01, 1.21461169e-03],\n",
       "       [7.08513185e-02, 9.27785516e-01, 1.36316789e-03],\n",
       "       [7.36280754e-02, 9.25033629e-01, 1.33822695e-03],\n",
       "       [7.04228058e-02, 9.28236902e-01, 1.34026888e-03],\n",
       "       [8.49705696e-01, 1.46563902e-01, 3.73043143e-03],\n",
       "       [8.81752491e-01, 1.14603788e-01, 3.64377350e-03],\n",
       "       [7.12223873e-02, 9.27522779e-01, 1.25490525e-03],\n",
       "       [7.30960891e-02, 9.25369143e-01, 1.53481343e-03],\n",
       "       [1.46090657e-01, 8.53060186e-01, 8.49118747e-04],\n",
       "       [7.25958124e-02, 9.25971389e-01, 1.43280334e-03],\n",
       "       [8.84078324e-01, 1.12067595e-01, 3.85407987e-03],\n",
       "       [7.29930103e-02, 9.25745130e-01, 1.26181450e-03],\n",
       "       [7.21466094e-02, 9.26534593e-01, 1.31883728e-03],\n",
       "       [8.16661566e-02, 9.16882336e-01, 1.45154807e-03],\n",
       "       [7.23449811e-02, 9.26388979e-01, 1.26604177e-03],\n",
       "       [7.30449408e-02, 9.25412834e-01, 1.54223549e-03],\n",
       "       [7.20432848e-02, 9.26564097e-01, 1.39262166e-03],\n",
       "       [7.06738904e-02, 9.28009391e-01, 1.31676462e-03],\n",
       "       [8.24149430e-01, 1.72901869e-01, 2.94872117e-03],\n",
       "       [7.44115412e-02, 9.24287140e-01, 1.30135717e-03],\n",
       "       [7.42613599e-02, 9.24483180e-01, 1.25552178e-03],\n",
       "       [3.25905025e-01, 6.72394395e-01, 1.70059479e-03],\n",
       "       [8.97247016e-01, 9.89811271e-02, 3.77183966e-03],\n",
       "       [9.01954472e-01, 9.42223817e-02, 3.82318418e-03],\n",
       "       [7.28245080e-02, 9.25918043e-01, 1.25744415e-03],\n",
       "       [7.20117167e-02, 9.26697969e-01, 1.29031879e-03],\n",
       "       [7.33589455e-02, 9.25221443e-01, 1.41962478e-03],\n",
       "       [7.74030164e-02, 9.21158791e-01, 1.43818674e-03],\n",
       "       [7.22119138e-02, 9.26507175e-01, 1.28091453e-03],\n",
       "       [8.89009297e-01, 1.07352436e-01, 3.63835786e-03],\n",
       "       [9.00058210e-01, 9.62105468e-02, 3.73134203e-03],\n",
       "       [8.96957159e-01, 9.94431078e-02, 3.59977433e-03],\n",
       "       [7.55867183e-01, 2.41832435e-01, 2.30041542e-03],\n",
       "       [8.94012213e-01, 1.02558203e-01, 3.42957233e-03],\n",
       "       [8.94742787e-01, 1.01593919e-01, 3.66329146e-03],\n",
       "       [9.05726135e-01, 9.06133875e-02, 3.66057782e-03],\n",
       "       [9.01613533e-01, 9.45390537e-02, 3.84733872e-03],\n",
       "       [8.76212060e-01, 1.20373718e-01, 3.41422879e-03],\n",
       "       [8.99823666e-01, 9.58874524e-02, 4.28886758e-03],\n",
       "       [7.18055740e-02, 9.26746786e-01, 1.44767249e-03],\n",
       "       [9.16138768e-01, 8.00801218e-02, 3.78109282e-03],\n",
       "       [8.95215392e-01, 1.00723311e-01, 4.06122068e-03],\n",
       "       [8.90437245e-01, 1.05993815e-01, 3.56891449e-03],\n",
       "       [7.72267461e-01, 2.25062057e-01, 2.67043151e-03],\n",
       "       [9.05494034e-01, 9.08110440e-02, 3.69490683e-03],\n",
       "       [9.06380832e-01, 8.99478272e-02, 3.67140933e-03],\n",
       "       [9.13724542e-01, 8.24613273e-02, 3.81409749e-03],\n",
       "       [9.09043491e-01, 8.72439146e-02, 3.71263223e-03],\n",
       "       [7.69052431e-02, 9.21548188e-01, 1.54653005e-03],\n",
       "       [8.79688025e-01, 1.16988152e-01, 3.32382484e-03],\n",
       "       [8.98847044e-01, 9.72821489e-02, 3.87077709e-03],\n",
       "       [2.29458332e-01, 7.69483387e-01, 1.05830305e-03],\n",
       "       [9.08312380e-01, 8.79682526e-02, 3.71943414e-03],\n",
       "       [8.64435911e-01, 1.32137746e-01, 3.42641585e-03],\n",
       "       [8.89645398e-01, 1.06631473e-01, 3.72313149e-03],\n",
       "       [8.81446362e-01, 1.15024291e-01, 3.52933607e-03],\n",
       "       [1.71221033e-01, 8.27861965e-01, 9.16992954e-04],\n",
       "       [8.94141614e-01, 1.01792365e-01, 4.06596204e-03],\n",
       "       [9.14984882e-01, 8.12285021e-02, 3.78659577e-03],\n",
       "       [8.93501341e-01, 1.02616042e-01, 3.88266426e-03],\n",
       "       [8.79348934e-01, 1.16944671e-01, 3.70632112e-03],\n",
       "       [8.86897027e-01, 1.09226465e-01, 3.87653615e-03],\n",
       "       [8.61797392e-01, 1.34840578e-01, 3.36203258e-03],\n",
       "       [9.06899512e-01, 8.94690603e-02, 3.63149354e-03],\n",
       "       [8.95261288e-01, 1.01259887e-01, 3.47885909e-03],\n",
       "       [9.06364858e-01, 8.99794698e-02, 3.65561736e-03],\n",
       "       [7.04406947e-02, 9.28278029e-01, 1.28131127e-03],\n",
       "       [7.10884333e-02, 9.27560449e-01, 1.35110226e-03],\n",
       "       [9.03105557e-01, 9.33326706e-02, 3.56179127e-03],\n",
       "       [8.78416598e-01, 1.18245229e-01, 3.33813392e-03],\n",
       "       [8.69674385e-01, 1.26854584e-01, 3.47100571e-03],\n",
       "       [9.04812574e-01, 9.15790796e-02, 3.60827497e-03],\n",
       "       [8.81283879e-01, 1.15109138e-01, 3.60706798e-03],\n",
       "       [9.02685642e-01, 9.32440162e-02, 4.07027127e-03],\n",
       "       [8.26386034e-01, 1.70629770e-01, 2.98427884e-03],\n",
       "       [8.91360998e-01, 1.04850300e-01, 3.78872268e-03],\n",
       "       [8.98704171e-01, 9.74114761e-02, 3.88439442e-03],\n",
       "       [8.66354585e-01, 1.30218491e-01, 3.42694810e-03],\n",
       "       [8.63051951e-01, 1.33586198e-01, 3.36184795e-03],\n",
       "       [8.62663209e-01, 1.33917823e-01, 3.41895898e-03],\n",
       "       [8.83616984e-01, 1.13001347e-01, 3.38169327e-03],\n",
       "       [9.08393383e-01, 8.78287628e-02, 3.77773121e-03],\n",
       "       [8.24065268e-01, 1.72946408e-01, 2.98831891e-03],\n",
       "       [8.87377143e-01, 1.08889200e-01, 3.73363541e-03],\n",
       "       [8.92223597e-01, 1.03929557e-01, 3.84678598e-03],\n",
       "       [9.00707543e-01, 9.54954550e-02, 3.79703450e-03],\n",
       "       [8.75279069e-01, 1.21463574e-01, 3.25731235e-03]], dtype=float32)"
      ]
     },
     "execution_count": 578,
     "metadata": {},
     "output_type": "execute_result"
    }
   ],
   "source": [
    "y_pred = model.predict(x_test)\n",
    "y_pred"
   ]
  },
  {
   "cell_type": "code",
   "execution_count": 579,
   "metadata": {},
   "outputs": [],
   "source": [
    "y_pred = np.array( [ np.argmax (y) for y in y_pred ] )"
   ]
  },
  {
   "cell_type": "code",
   "execution_count": 580,
   "metadata": {},
   "outputs": [
    {
     "data": {
      "text/plain": [
       "array([1, 1, 1, 1, 0, 1, 0, 0, 1, 0, 1, 1, 0, 0, 0, 1, 1, 1, 1, 0, 0, 1,\n",
       "       0, 0, 0, 1, 1, 0, 1, 1, 1, 1, 1, 0, 0, 1, 1, 1, 0, 0, 0, 1, 0, 0,\n",
       "       1, 0, 1, 1, 1, 1, 1, 1, 1, 1, 1, 1, 1, 0, 1, 1, 1, 0, 1, 1, 1, 0,\n",
       "       1, 1, 1, 1, 0, 0, 0, 0, 0, 0, 0, 0, 0, 0, 0, 0, 0, 0, 1, 1, 1, 1,\n",
       "       1, 1, 1, 1, 1, 1, 1, 1, 1, 1, 1, 1, 1, 1, 1, 1, 1, 0, 1, 1, 1, 1,\n",
       "       0, 1, 0, 1, 0, 1, 1, 1, 0, 1, 1, 1, 1, 1, 1, 1, 1, 1, 1, 1, 0, 1,\n",
       "       1, 1, 1, 1, 1, 1, 1, 1, 1, 1, 1, 1, 1, 1, 0, 0, 1, 1, 1, 1, 0, 1,\n",
       "       1, 1, 1, 1, 1, 1, 0, 1, 1, 1, 0, 0, 1, 1, 1, 1, 1, 0, 0, 0, 0, 0,\n",
       "       0, 0, 0, 0, 0, 1, 0, 0, 0, 0, 0, 0, 0, 0, 1, 0, 0, 1, 0, 0, 0, 0,\n",
       "       1, 0, 0, 0, 0, 0, 0, 0, 0, 0, 1, 1, 0, 0, 0, 0, 0, 0, 0, 0, 0, 0,\n",
       "       0, 0, 0, 0, 0, 0, 0, 0, 0], dtype=int64)"
      ]
     },
     "execution_count": 580,
     "metadata": {},
     "output_type": "execute_result"
    }
   ],
   "source": [
    "y_pred"
   ]
  },
  {
   "cell_type": "code",
   "execution_count": 581,
   "metadata": {},
   "outputs": [],
   "source": [
    "y_test_labels = df_test.Label"
   ]
  },
  {
   "cell_type": "code",
   "execution_count": 582,
   "metadata": {},
   "outputs": [
    {
     "data": {
      "image/png": "[encoded data removed]",
      "text/plain": [
       "<Figure size 432x288 with 2 Axes>"
      ]
     },
     "metadata": {},
     "output_type": "display_data"
    }
   ],
   "source": [
    "from sklearn.metrics import classification_report\n",
    "cm = confusion_matrix(y_test_labels, y_pred)\n",
    "fig = sns.heatmap(cm, annot=True, fmt=\"d\")\n",
    "plt.title(\"Confusion Matrix\")\n",
    "plt.xlabel(\"Predicted Label\")\n",
    "plt.ylabel(\"Actual Label\")\n",
    "plt.show(fig)"
   ]
  },
  {
   "cell_type": "code",
   "execution_count": 583,
   "metadata": {},
   "outputs": [
    {
     "name": "stdout",
     "output_type": "stream",
     "text": [
      "              precision    recall  f1-score   support\n",
      "\n",
      "           0       0.83      0.83      0.83       103\n",
      "           1       0.86      0.87      0.86       126\n",
      "\n",
      "    accuracy                           0.85       229\n",
      "   macro avg       0.85      0.85      0.85       229\n",
      "weighted avg       0.85      0.85      0.85       229\n",
      "\n"
     ]
    }
   ],
   "source": [
    "print(classification_report(y_test_labels, y_pred))"
   ]
  },
  {
   "cell_type": "code",
   "execution_count": null,
   "metadata": {},
   "outputs": [],
   "source": []
  }
 ],
 "metadata": {
  "kernelspec": {
   "display_name": "Python 3 (ipykernel)",
   "language": "python",
   "name": "python3"
  },
  "language_info": {
   "codemirror_mode": {
    "name": "ipython",
    "version": 3
   },
   "file_extension": ".py",
   "mimetype": "text/x-python",
   "name": "python",
   "nbconvert_exporter": "python",
   "pygments_lexer": "ipython3",
   "version": "3.9.9"
  }
 },
 "nbformat": 4,
 "nbformat_minor": 4
}
